{
 "cells": [
  {
   "cell_type": "markdown",
   "metadata": {},
   "source": [
    "# Exploratory analysis \n"
   ]
  },
  {
   "cell_type": "code",
   "execution_count": null,
   "metadata": {},
   "outputs": [],
   "source": [
    "#import the libs and data "
   ]
  },
  {
   "cell_type": "code",
   "execution_count": null,
   "metadata": {},
   "outputs": [],
   "source": [
    "import pandas as pd\n",
    "import numpy as np\n",
    "import matplotlib.pyplot as plt\n",
    "import seaborn as sns\n",
    "%matplotlib inline \n",
    "df_2015=pd.read_csv('energy/2015-building-energy-benchmarking.csv')\n",
    "df_2016=pd.read_csv('energy/2016-building-energy-benchmarking.csv')"
   ]
  },
  {
   "cell_type": "code",
   "execution_count": null,
   "metadata": {},
   "outputs": [],
   "source": [
    "# sort the columns "
   ]
  },
  {
   "cell_type": "code",
   "execution_count": null,
   "metadata": {},
   "outputs": [],
   "source": [
    "df_2015 = df_2015.reindex(sorted(df_2015.columns), axis=1 )\n",
    "df_2016 = df_2016.reindex(sorted(df_2016.columns), axis=1 )"
   ]
  },
  {
   "cell_type": "code",
   "execution_count": null,
   "metadata": {},
   "outputs": [],
   "source": [
    "# rename the columns in df_2016 which are different from df_2015 (set(2015)-set(2016))"
   ]
  },
  {
   "cell_type": "code",
   "execution_count": null,
   "metadata": {},
   "outputs": [],
   "source": [
    "df_2016.rename(columns={'Comments':'Comment','CouncilDistrictCode':'City Council Districts','ZipCode':'Zip Codes','GHGEmissionsIntensity':'GHGEmissionsIntensity(kgCO2e/ft2)'} , inplace=True)"
   ]
  },
  {
   "cell_type": "code",
   "execution_count": null,
   "metadata": {},
   "outputs": [],
   "source": [
    "print(len(df_2015.columns),len(df_2016.columns))"
   ]
  },
  {
   "cell_type": "code",
   "execution_count": null,
   "metadata": {},
   "outputs": [],
   "source": [
    "#combine df_2015 and df_2016 (check merge)"
   ]
  },
  {
   "cell_type": "code",
   "execution_count": null,
   "metadata": {},
   "outputs": [],
   "source": [
    "df  = pd.concat([df_2015,df_2016],ignore_index=True)"
   ]
  },
  {
   "cell_type": "code",
   "execution_count": null,
   "metadata": {},
   "outputs": [],
   "source": [
    "df.columns"
   ]
  },
  {
   "cell_type": "code",
   "execution_count": null,
   "metadata": {},
   "outputs": [],
   "source": [
    "# drop duplicates and filter out the data "
   ]
  },
  {
   "cell_type": "code",
   "execution_count": null,
   "metadata": {},
   "outputs": [],
   "source": [
    "df.drop_duplicates(inplace = True)\n",
    "df = df[df['BuildingType']=='NonResidential']"
   ]
  },
  {
   "cell_type": "code",
   "execution_count": null,
   "metadata": {},
   "outputs": [],
   "source": [
    "print(df.shape)"
   ]
  },
  {
   "cell_type": "code",
   "execution_count": null,
   "metadata": {},
   "outputs": [],
   "source": [
    "#divide the data into numerical and categorical type "
   ]
  },
  {
   "cell_type": "code",
   "execution_count": null,
   "metadata": {},
   "outputs": [],
   "source": [
    "df_num = df.select_dtypes(np.number)\n",
    "df_obj = df.select_dtypes('object')"
   ]
  },
  {
   "cell_type": "code",
   "execution_count": null,
   "metadata": {},
   "outputs": [],
   "source": [
    "df_num.columns"
   ]
  },
  {
   "cell_type": "code",
   "execution_count": null,
   "metadata": {},
   "outputs": [],
   "source": [
    "# data visualization of categorical data   \n",
    "       "
   ]
  },
  {
   "cell_type": "code",
   "execution_count": null,
   "metadata": {},
   "outputs": [],
   "source": [
    "df_obj.columns"
   ]
  },
  {
   "cell_type": "code",
   "execution_count": null,
   "metadata": {},
   "outputs": [],
   "source": [
    "data1 =  df_obj['PrimaryPropertyType']\n",
    "plt.figure(figsize=(20,5))\n",
    "ax = sns.countplot( data1)    \n",
    "plt.xticks(rotation=90 , fontsize = 15)\n",
    "plt.yticks(fontsize = 15)\n"
   ]
  },
  {
   "cell_type": "code",
   "execution_count": null,
   "metadata": {},
   "outputs": [],
   "source": [
    "data2 = df_obj['LargestPropertyUseType']\n",
    "plt.figure(figsize=(20,5))\n",
    "bx = sns.countplot(data2)\n",
    "plt.xticks(rotation=90 , fontsize = 15)\n",
    "plt.yticks(fontsize = 15)"
   ]
  },
  {
   "cell_type": "code",
   "execution_count": null,
   "metadata": {},
   "outputs": [],
   "source": [
    " a = df_obj['ThirdLargestPropertyUseType'].value_counts()\n",
    "a.plot(kind='pie', figsize=(10, 10 ), shadow=True ,startangle=90, autopct='%1.1f%%', fontsize = 12 )\n"
   ]
  },
  {
   "cell_type": "code",
   "execution_count": null,
   "metadata": {},
   "outputs": [],
   "source": [
    "a = pd.DataFrame(df_obj['YearsENERGYSTARCertified'].value_counts())\n"
   ]
  },
  {
   "cell_type": "code",
   "execution_count": null,
   "metadata": {},
   "outputs": [],
   "source": [
    "#missing values "
   ]
  },
  {
   "cell_type": "markdown",
   "metadata": {},
   "source": [
    "If skewness is less than -1 or greater than 1, the distribution is highly skewed. If skewness is between -1 and -0.5 or between 0.5 and 1, the distribution is moderately skewed. If skewness is between -0.5 and 0.5, the distribution is approximately symmetric\n"
   ]
  },
  {
   "cell_type": "code",
   "execution_count": null,
   "metadata": {},
   "outputs": [],
   "source": [
    "df.skew(axis = 0, skipna = True) "
   ]
  },
  {
   "cell_type": "code",
   "execution_count": null,
   "metadata": {},
   "outputs": [],
   "source": [
    "df_num.isna().sum()"
   ]
  },
  {
   "cell_type": "code",
   "execution_count": null,
   "metadata": {},
   "outputs": [],
   "source": [
    "for key in df_num.columns:\n",
    "    if  -1 < df[key].skew(axis = 0, skipna = True) < 1 :\n",
    "        df_num[key].fillna(df_num[key].mean() , inplace = True)\n",
    "    else:\n",
    "        df_num[key].fillna(df_num[key].median() , inplace = True)"
   ]
  },
  {
   "cell_type": "code",
   "execution_count": null,
   "metadata": {},
   "outputs": [],
   "source": [
    "df_num.describe()"
   ]
  },
  {
   "cell_type": "code",
   "execution_count": null,
   "metadata": {},
   "outputs": [],
   "source": [
    " #data visualization of numerical data "
   ]
  },
  {
   "cell_type": "code",
   "execution_count": null,
   "metadata": {},
   "outputs": [],
   "source": [
    "df_num.corr()"
   ]
  },
  {
   "cell_type": "code",
   "execution_count": null,
   "metadata": {},
   "outputs": [],
   "source": [
    "corr = df_num.corr()\n",
    "plt.figure(figsize=(10, 10))\n",
    "ax = sns.heatmap(corr , linewidths=.5 , annot_kws={\"fontsize\":15})\n"
   ]
  },
  {
   "cell_type": "code",
   "execution_count": null,
   "metadata": {},
   "outputs": [],
   "source": [
    "# normalizing \n",
    "#df = (df - df.mean())/(df.std()) "
   ]
  },
  {
   "cell_type": "code",
   "execution_count": null,
   "metadata": {},
   "outputs": [],
   "source": [
    "df_num.columns"
   ]
  },
  {
   "cell_type": "code",
   "execution_count": null,
   "metadata": {},
   "outputs": [],
   "source": [
    "\n",
    "fig = plt.figure() # create figure\n",
    "\n",
    "ax0 = fig.add_subplot(1, 2, 1)\n",
    "ax1 = fig.add_subplot(1, 2, 2)\n",
    "\n",
    "df_num['Electricity(kBtu)'].plot(kind='hist', color='blue', figsize=(20, 6), ax=ax0)\n",
    "df_num['Electricity(kWh)'].plot(kind='hist', color='blue', figsize=(20, 6), ax=ax1)\n",
    "\n",
    "ax0.set_title('historgram form electricity in kBtu ')\n",
    "ax1.set_title('historgram form electricity in kWh ')\n"
   ]
  },
  {
   "cell_type": "code",
   "execution_count": null,
   "metadata": {},
   "outputs": [],
   "source": [
    "fig = plt.figure( figsize = (15,5)) # create figure\n",
    "\n",
    "ax0 = fig.add_subplot(1, 2, 1)\n",
    "ax1 = fig.add_subplot(1,2,2)\n",
    "\n",
    "\n",
    "ax0.scatter(df_num.index , df_num['Electricity(kBtu)'])\n",
    "ax1.scatter(df_num.index , df_num['Electricity(kWh)'])"
   ]
  },
  {
   "cell_type": "code",
   "execution_count": null,
   "metadata": {},
   "outputs": [],
   "source": [
    "fig = plt.figure( figsize = (15,5)) # create figure\n",
    "\n",
    "ax0 = fig.add_subplot(1, 2, 1)\n",
    "ax1 = fig.add_subplot(1,2,2)\n",
    "\n",
    "\n",
    "ax0.scatter(df_num.index , df_num['GHGEmissions(MetricTonsCO2e)'])\n",
    "ax1.scatter(df_num.index , df_num['GHGEmissionsIntensity(kgCO2e/ft2)'])\n"
   ]
  },
  {
   "cell_type": "code",
   "execution_count": null,
   "metadata": {},
   "outputs": [],
   "source": [
    "\n",
    "fig = plt.figure() # create figure\n",
    "\n",
    "ax0 = fig.add_subplot(1, 2, 1)\n",
    "ax1 = fig.add_subplot(1, 2, 2)\n",
    "\n",
    "df_num['GHGEmissions(MetricTonsCO2e)'].plot(kind='hist', color='blue', figsize=(20, 6), ax=ax0)\n",
    "df_num['GHGEmissionsIntensity(kgCO2e/ft2)'].plot(kind='hist', color='blue', figsize=(20, 6), ax=ax1)\n",
    "\n",
    "ax0.set_title('historgram form electricity in kBtu ')\n",
    "ax1.set_title('historgram form electricity in kWh ')"
   ]
  },
  {
   "cell_type": "code",
   "execution_count": null,
   "metadata": {},
   "outputs": [],
   "source": [
    "\n",
    "fig = plt.figure( figsize = (15,15)) # create figure\n",
    "\n",
    "ax0 = fig.add_subplot(6, 2, 1)\n",
    "ax1 = fig.add_subplot(6,2,2)\n",
    "ax3 = fig.add_subplot(6,2,5)\n",
    "ax4 = fig.add_subplot(6,2,6)\n",
    "ax5 = fig.add_subplot(6,2,9)\n",
    "ax6 = fig.add_subplot(6,2,10)\n",
    "\n",
    "ax0.scatter(df_num.index , df_num['NaturalGas(kBtu)'])\n",
    "ax1.scatter(df_num.index , df_num['NaturalGas(therms)'])\n",
    "\n",
    "\n",
    "\n",
    "ax3.scatter(df_num.index , df_num['SiteEnergyUse(kBtu)'])\n",
    "ax4.scatter(df_num.index , df_num['SiteEnergyUseWN(kBtu)'])\n",
    "\n",
    "ax5.scatter(df_num.index , df_num['SourceEUI(kBtu/sf)'])\n",
    "ax6.scatter(df_num.index , df_num['SourceEUIWN(kBtu/sf)'])\n",
    "\n",
    "ax5.set_title('scatter for Source EUI ')\n",
    "ax0.set_title('scatter for Natural Gas  ')\n",
    "ax3.set_title('scatter for Site Energy use  ')\n",
    "\n"
   ]
  },
  {
   "cell_type": "code",
   "execution_count": null,
   "metadata": {},
   "outputs": [],
   "source": [
    "# yearbuilt \n",
    "fig = plt.figure( figsize = (10,5))\n",
    "sns.scatterplot(x=df.index , y = df['TotalGHGEmissions'] , hue = df['YearBuilt'] ,s = 60 , palette = 'icefire' )\n"
   ]
  },
  {
   "cell_type": "code",
   "execution_count": null,
   "metadata": {},
   "outputs": [],
   "source": [
    "fig = plt.figure( figsize = (10,5))\n",
    "grp = df.groupby('YearBuilt').count()['TotalGHGEmissions'].plot()\n"
   ]
  },
  {
   "cell_type": "code",
   "execution_count": null,
   "metadata": {},
   "outputs": [],
   "source": [
    "df['ENERGYSTARScore'].value_counts().plot(kind = 'hist')"
   ]
  },
  {
   "cell_type": "code",
   "execution_count": null,
   "metadata": {},
   "outputs": [],
   "source": [
    "\n",
    "grp1 =  df[['Electricity(kBtu)', 'Electricity(kWh)', 'GHGEmissions(MetricTonsCO2e)', 'GHGEmissionsIntensity(kgCO2e/ft2)',\n",
    "       'LargestPropertyUseTypeGFA', 'NaturalGas(kBtu)', 'NaturalGas(therms)','OtherFuelUse(kBtu)', 'PropertyGFABuilding(s)', 'PropertyGFAParking',\n",
    "       'PropertyGFATotal', 'SecondLargestPropertyUseTypeGFA', 'SiteEUI(kBtu/sf)',\n",
    "       'SiteEUIWN(kBtu/sf)', 'SiteEnergyUse(kBtu)', 'SiteEnergyUseWN(kBtu)',\n",
    "       'SourceEUI(kBtu/sf)', 'SourceEUIWN(kBtu/sf)', 'SteamUse(kBtu)',\n",
    "       'ThirdLargestPropertyUseTypeGFA', 'YearBuilt','TotalGHGEmissions']]\n",
    "grp1 = (grp1 - grp1.mean())/(grp1.std()) \n",
    "data = pd.melt(grp1,var_name=\"features\",value_name='value')\n",
    "a4_dims = (15, 8)\n",
    "fig, ax = plt.subplots(figsize=a4_dims)\n",
    "sns.boxplot(x=\"features\", y = 'value' , data=data , ax=ax)\n",
    "plt.xticks(rotation=90)\n"
   ]
  },
  {
   "cell_type": "code",
   "execution_count": null,
   "metadata": {},
   "outputs": [],
   "source": [
    "df['TotalGHGEmissions'].plot(kind = \"density\")"
   ]
  },
  {
   "cell_type": "code",
   "execution_count": null,
   "metadata": {},
   "outputs": [],
   "source": [
    "df['YearsENERGYSTARCertified'].value_counts()"
   ]
  },
  {
   "cell_type": "code",
   "execution_count": null,
   "metadata": {},
   "outputs": [],
   "source": []
  },
  {
   "cell_type": "code",
   "execution_count": null,
   "metadata": {},
   "outputs": [],
   "source": []
  },
  {
   "cell_type": "code",
   "execution_count": null,
   "metadata": {},
   "outputs": [],
   "source": []
  },
  {
   "cell_type": "code",
   "execution_count": null,
   "metadata": {},
   "outputs": [],
   "source": []
  },
  {
   "cell_type": "code",
   "execution_count": null,
   "metadata": {},
   "outputs": [],
   "source": []
  },
  {
   "cell_type": "code",
   "execution_count": null,
   "metadata": {},
   "outputs": [],
   "source": [
    "\n"
   ]
  },
  {
   "cell_type": "code",
   "execution_count": null,
   "metadata": {},
   "outputs": [],
   "source": []
  },
  {
   "cell_type": "code",
   "execution_count": null,
   "metadata": {},
   "outputs": [],
   "source": []
  },
  {
   "cell_type": "code",
   "execution_count": null,
   "metadata": {},
   "outputs": [],
   "source": []
  },
  {
   "cell_type": "code",
   "execution_count": null,
   "metadata": {},
   "outputs": [],
   "source": []
  },
  {
   "cell_type": "code",
   "execution_count": null,
   "metadata": {},
   "outputs": [],
   "source": []
  },
  {
   "cell_type": "code",
   "execution_count": null,
   "metadata": {},
   "outputs": [],
   "source": []
  },
  {
   "cell_type": "code",
   "execution_count": null,
   "metadata": {},
   "outputs": [],
   "source": []
  }
 ],
 "metadata": {
  "kernelspec": {
   "display_name": "Python 3",
   "language": "python",
   "name": "python3"
  },
  "language_info": {
   "codemirror_mode": {
    "name": "ipython",
    "version": 3
   },
   "file_extension": ".py",
   "mimetype": "text/x-python",
   "name": "python",
   "nbconvert_exporter": "python",
   "pygments_lexer": "ipython3",
   "version": "3.7.3"
  }
 },
 "nbformat": 4,
 "nbformat_minor": 4
}
